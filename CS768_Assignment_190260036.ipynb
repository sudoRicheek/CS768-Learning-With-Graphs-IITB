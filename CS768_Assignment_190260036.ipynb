{
  "nbformat": 4,
  "nbformat_minor": 0,
  "metadata": {
    "colab": {
      "name": "Copy of CS768-Assignment-190260036.ipynb",
      "provenance": [],
      "collapsed_sections": []
    },
    "kernelspec": {
      "name": "python3",
      "display_name": "Python 3"
    },
    "language_info": {
      "name": "python"
    },
    "accelerator": "GPU"
  },
  "cells": [
    {
      "cell_type": "markdown",
      "metadata": {
        "id": "ptEYkJ35Q-Y2"
      },
      "source": [
        "## Implementing a node property prediction (classification) model <br>\n",
        "## using some popular GNNs such as GCN, GraphSAGE, Graph Attention Network. <br>\n",
        "## Tools: PyTorch, Pytorch Geometric\n",
        "## Datasets: Planetoid datasets (cora/citeseer)\n",
        "\n"
      ]
    },
    {
      "cell_type": "code",
      "metadata": {
        "colab": {
          "base_uri": "https://localhost:8080/"
        },
        "id": "saGDRkY7zD48",
        "outputId": "3c0d7704-c45e-4d5c-ff64-1dcf408c26f2"
      },
      "source": [
        "import torch\n",
        "print(torch.__version__)\n",
        "#Remember to change runtime type to GPU. \n",
        "print(torch.cuda.is_available())"
      ],
      "execution_count": 1,
      "outputs": [
        {
          "output_type": "stream",
          "name": "stdout",
          "text": [
            "1.9.0+cu111\n",
            "True\n"
          ]
        }
      ]
    },
    {
      "cell_type": "code",
      "metadata": {
        "colab": {
          "base_uri": "https://localhost:8080/"
        },
        "id": "g1yetFnyzJOi",
        "outputId": "ece82fbe-b978-4e8e-98cd-c8212c8b73a3"
      },
      "source": [
        "# changed to cu111 since torch on colab has been upgraded\n",
        "!pip install torch-scatter torch-sparse torch-cluster torch-spline-conv torch-geometric -f https://data.pyg.org/whl/torch-1.9.0+cu111.html"
      ],
      "execution_count": 2,
      "outputs": [
        {
          "output_type": "stream",
          "name": "stdout",
          "text": [
            "Looking in links: https://data.pyg.org/whl/torch-1.9.0+cu111.html\n",
            "Collecting torch-scatter\n",
            "  Downloading https://data.pyg.org/whl/torch-1.9.0%2Bcu111/torch_scatter-2.0.9-cp37-cp37m-linux_x86_64.whl (10.4 MB)\n",
            "\u001b[K     |████████████████████████████████| 10.4 MB 5.3 MB/s \n",
            "\u001b[?25hCollecting torch-sparse\n",
            "  Downloading https://data.pyg.org/whl/torch-1.9.0%2Bcu111/torch_sparse-0.6.12-cp37-cp37m-linux_x86_64.whl (3.7 MB)\n",
            "\u001b[K     |████████████████████████████████| 3.7 MB 35.9 MB/s \n",
            "\u001b[?25hCollecting torch-cluster\n",
            "  Downloading https://data.pyg.org/whl/torch-1.9.0%2Bcu111/torch_cluster-1.5.9-cp37-cp37m-linux_x86_64.whl (1.6 MB)\n",
            "\u001b[K     |████████████████████████████████| 1.6 MB 38.5 MB/s \n",
            "\u001b[?25hCollecting torch-spline-conv\n",
            "  Downloading https://data.pyg.org/whl/torch-1.9.0%2Bcu111/torch_spline_conv-1.2.1-cp37-cp37m-linux_x86_64.whl (870 kB)\n",
            "\u001b[K     |████████████████████████████████| 870 kB 34.4 MB/s \n",
            "\u001b[?25hCollecting torch-geometric\n",
            "  Downloading torch_geometric-2.0.2.tar.gz (325 kB)\n",
            "\u001b[K     |████████████████████████████████| 325 kB 6.1 MB/s \n",
            "\u001b[?25hRequirement already satisfied: scipy in /usr/local/lib/python3.7/dist-packages (from torch-sparse) (1.4.1)\n",
            "Requirement already satisfied: numpy in /usr/local/lib/python3.7/dist-packages (from torch-geometric) (1.19.5)\n",
            "Requirement already satisfied: tqdm in /usr/local/lib/python3.7/dist-packages (from torch-geometric) (4.62.3)\n",
            "Requirement already satisfied: networkx in /usr/local/lib/python3.7/dist-packages (from torch-geometric) (2.6.3)\n",
            "Requirement already satisfied: scikit-learn in /usr/local/lib/python3.7/dist-packages (from torch-geometric) (0.22.2.post1)\n",
            "Requirement already satisfied: requests in /usr/local/lib/python3.7/dist-packages (from torch-geometric) (2.23.0)\n",
            "Requirement already satisfied: pandas in /usr/local/lib/python3.7/dist-packages (from torch-geometric) (1.1.5)\n",
            "Collecting rdflib\n",
            "  Downloading rdflib-6.0.2-py3-none-any.whl (407 kB)\n",
            "\u001b[K     |████████████████████████████████| 407 kB 34.5 MB/s \n",
            "\u001b[?25hRequirement already satisfied: googledrivedownloader in /usr/local/lib/python3.7/dist-packages (from torch-geometric) (0.4)\n",
            "Requirement already satisfied: jinja2 in /usr/local/lib/python3.7/dist-packages (from torch-geometric) (2.11.3)\n",
            "Requirement already satisfied: pyparsing in /usr/local/lib/python3.7/dist-packages (from torch-geometric) (2.4.7)\n",
            "Collecting yacs\n",
            "  Downloading yacs-0.1.8-py3-none-any.whl (14 kB)\n",
            "Requirement already satisfied: PyYAML in /usr/local/lib/python3.7/dist-packages (from torch-geometric) (3.13)\n",
            "Requirement already satisfied: MarkupSafe>=0.23 in /usr/local/lib/python3.7/dist-packages (from jinja2->torch-geometric) (2.0.1)\n",
            "Requirement already satisfied: pytz>=2017.2 in /usr/local/lib/python3.7/dist-packages (from pandas->torch-geometric) (2018.9)\n",
            "Requirement already satisfied: python-dateutil>=2.7.3 in /usr/local/lib/python3.7/dist-packages (from pandas->torch-geometric) (2.8.2)\n",
            "Requirement already satisfied: six>=1.5 in /usr/local/lib/python3.7/dist-packages (from python-dateutil>=2.7.3->pandas->torch-geometric) (1.15.0)\n",
            "Requirement already satisfied: setuptools in /usr/local/lib/python3.7/dist-packages (from rdflib->torch-geometric) (57.4.0)\n",
            "Collecting isodate\n",
            "  Downloading isodate-0.6.0-py2.py3-none-any.whl (45 kB)\n",
            "\u001b[K     |████████████████████████████████| 45 kB 3.3 MB/s \n",
            "\u001b[?25hRequirement already satisfied: certifi>=2017.4.17 in /usr/local/lib/python3.7/dist-packages (from requests->torch-geometric) (2021.5.30)\n",
            "Requirement already satisfied: idna<3,>=2.5 in /usr/local/lib/python3.7/dist-packages (from requests->torch-geometric) (2.10)\n",
            "Requirement already satisfied: urllib3!=1.25.0,!=1.25.1,<1.26,>=1.21.1 in /usr/local/lib/python3.7/dist-packages (from requests->torch-geometric) (1.24.3)\n",
            "Requirement already satisfied: chardet<4,>=3.0.2 in /usr/local/lib/python3.7/dist-packages (from requests->torch-geometric) (3.0.4)\n",
            "Requirement already satisfied: joblib>=0.11 in /usr/local/lib/python3.7/dist-packages (from scikit-learn->torch-geometric) (1.0.1)\n",
            "Building wheels for collected packages: torch-geometric\n",
            "  Building wheel for torch-geometric (setup.py) ... \u001b[?25l\u001b[?25hdone\n",
            "  Created wheel for torch-geometric: filename=torch_geometric-2.0.2-py3-none-any.whl size=535570 sha256=2419083a5d86b6e73a300e27729fc0b2fd3f119e24d2c4f59e0b4a5f5a793366\n",
            "  Stored in directory: /root/.cache/pip/wheels/3f/08/13/2321517088bb2e95bfd0e45033bb9c923189e5b2078e0be4ef\n",
            "Successfully built torch-geometric\n",
            "Installing collected packages: isodate, yacs, rdflib, torch-spline-conv, torch-sparse, torch-scatter, torch-geometric, torch-cluster\n",
            "Successfully installed isodate-0.6.0 rdflib-6.0.2 torch-cluster-1.5.9 torch-geometric-2.0.2 torch-scatter-2.0.9 torch-sparse-0.6.12 torch-spline-conv-1.2.1 yacs-0.1.8\n"
          ]
        }
      ]
    },
    {
      "cell_type": "code",
      "metadata": {
        "colab": {
          "base_uri": "https://localhost:8080/",
          "height": 35
        },
        "id": "L1Vg_KNLzK1o",
        "outputId": "862b2aac-1018-46ab-e458-31d577dbe33a"
      },
      "source": [
        "import torch_geometric\n",
        "torch_geometric.__version__"
      ],
      "execution_count": 3,
      "outputs": [
        {
          "output_type": "execute_result",
          "data": {
            "application/vnd.google.colaboratory.intrinsic+json": {
              "type": "string"
            },
            "text/plain": [
              "'2.0.2'"
            ]
          },
          "metadata": {},
          "execution_count": 3
        }
      ]
    },
    {
      "cell_type": "code",
      "metadata": {
        "id": "rcBRAvsjzTCl"
      },
      "source": [
        "import os\n",
        "import glob\n",
        "\n",
        "import torch\n",
        "import torch_scatter\n",
        "import torch.nn as nn\n",
        "import torch.nn.functional as F\n",
        "\n",
        "import torch_geometric.nn as pyg_nn\n",
        "import torch_geometric.utils as pyg_utils\n",
        "import torch.optim as optim\n",
        "import time\n",
        "\n",
        "import networkx as nx\n",
        "import numpy as np\n",
        "\n",
        "from torch_geometric.datasets import Planetoid\n",
        "from torch_geometric.loader import DataLoader\n",
        "\n",
        "import matplotlib.pyplot as plt\n"
      ],
      "execution_count": 4,
      "outputs": []
    },
    {
      "cell_type": "code",
      "metadata": {
        "id": "a3xAEHrfzd0M"
      },
      "source": [
        "\"\"\"\n",
        "    NO EDITS REQUIRED HERE. \n",
        "\"\"\"\n",
        "def train(dataset, args):\n",
        "    \"\"\"\n",
        "      Trains for fixed number of epochs\n",
        "      Keeps track of training loss and validation accuracy\n",
        "    \"\"\"\n",
        "    loader = DataLoader(dataset, batch_size=args.batch_size, shuffle=True)\n",
        "\n",
        "    # build model\n",
        "    model = GNNFactory(dataset.num_node_features, args.hidden_dim, dataset.num_classes, \n",
        "                            args)\n",
        "    opt = optim.Adam(filter(lambda p : p.requires_grad, model.parameters()),\\\n",
        "                           lr=args.lr, weight_decay=args.weight_decay)\n",
        "    print(model)\n",
        "    # train\n",
        "    losses = []\n",
        "    val_accs = []\n",
        "    for epoch in range(args.epochs):\n",
        "        total_loss = 0\n",
        "        model.train()\n",
        "        for batch in loader:\n",
        "            opt.zero_grad()\n",
        "            pred = model(batch)\n",
        "            label = batch.y\n",
        "            pred = pred[batch.train_mask]\n",
        "            label = label[batch.train_mask]\n",
        "            loss = model.loss(pred, label)\n",
        "            loss.backward()\n",
        "            opt.step()\n",
        "            total_loss += loss.item() * batch.num_graphs\n",
        "        total_loss /= len(loader.dataset)\n",
        "        losses.append(total_loss)\n",
        "\n",
        "        if epoch % 10 == 0:\n",
        "          val_acc = test(loader, model)\n",
        "          val_accs.append(val_acc)\n",
        "          print(\"Epoch \", epoch, \"Loss: \", total_loss, \"Val Acc.: \", val_acc)\n",
        "        else:\n",
        "          val_accs.append(val_accs[-1])\n",
        "    return val_accs, losses\n",
        "\n",
        "def test(loader, model, is_validation=True):\n",
        "    \"\"\"\n",
        "        Testing module cn be used on validation data/ test data \n",
        "        Returns fraction of correct predictions\n",
        "    \"\"\"\n",
        "    model.eval()\n",
        "\n",
        "    correct = 0\n",
        "    for data in loader:\n",
        "        with torch.no_grad():\n",
        "            pred = model(data).max(dim=1)[1]\n",
        "            label = data.y\n",
        "\n",
        "        mask = data.val_mask if is_validation else data.test_mask\n",
        "        # node classification: only evaluate on nodes in test set\n",
        "        pred = pred[mask]\n",
        "        label = data.y[mask]\n",
        "            \n",
        "        correct += pred.eq(label).sum().item()\n",
        "\n",
        "    total = 0\n",
        "    for data in loader.dataset:\n",
        "        total += torch.sum(data.val_mask if is_validation else data.test_mask).item()\n",
        "    return correct / total\n",
        "  \n",
        "class objectview(object):\n",
        "    def __init__(self, d):\n",
        "        self.__dict__ = d\n",
        "\n",
        "def run(args):\n",
        "    dataset = Planetoid('/tmp/'+args.dataset, args.dataset)\n",
        "\n",
        "    val_accs, losses = train_ES(dataset, args)\n",
        "    # val_accs, losses = train(dataset, args)\n",
        "\n",
        "    plt.title(dataset.name)\n",
        "    plt.plot(losses, label=\"training loss\" + \" - \" + args.model_type)\n",
        "    plt.plot(val_accs, label=\"val accuracy\" + \" - \" + args.model_type)\n",
        "    plt.legend()\n",
        "    plt.savefig(f\"{args.model_type}_{args.dataset}_best.png\", dpi=500)\n",
        "    plt.show()"
      ],
      "execution_count": 5,
      "outputs": []
    },
    {
      "cell_type": "markdown",
      "metadata": {
        "id": "w2vO3155zpqZ"
      },
      "source": [
        "## Implement the remaining part of GNNFactory\n"
      ]
    },
    {
      "cell_type": "code",
      "metadata": {
        "id": "Bh6gQbuIzmLx"
      },
      "source": [
        "\"\"\"\n",
        "   GNNFactory consists of following functions: \n",
        "   1. __init__ : set values for class attributes. Initialize all layers you'll require in the forward function \n",
        "   2. set_conv_model : it takes as input args.model_type and returns the corresponding convolution layer\n",
        "   3. forward: computes forward pass \n",
        "   4. loss: computes NLL loss\n",
        "\"\"\"\n",
        "from torch_geometric.nn import GCNConv, SAGEConv, GATConv\n",
        "\n",
        "class GNNFactory(torch.nn.Module):\n",
        "    def __init__(self, input_dim, hidden_dim, output_dim, args):\n",
        "        super(GNNFactory, self).__init__()\n",
        "        \"\"\"\n",
        "           You need to initialize as many convolution layers as specified in args.num_layers\n",
        "           You can add optional layers like relu and dropout as per you discretion \n",
        "           dropout fraction is specified by args.dropout\n",
        "           \n",
        "        \"\"\"\n",
        "        ######### Your code starts here ###############\n",
        "        torch.manual_seed(1234567)\n",
        "        conv = self.set_conv_model(args.model_type)\n",
        "        assert (args.num_layers > 0)\n",
        "\n",
        "        self.conv_layers = nn.ModuleList([\n",
        "            conv(\n",
        "                input_dim if i==0 else hidden_dim, \n",
        "                output_dim if i==(args.num_layers-1) else hidden_dim\n",
        "            ) \n",
        "            for i in range(args.num_layers)\n",
        "        ])\n",
        "        \n",
        "        self.dropout = args.dropout    \n",
        "        ######### Your code ends here  ################\n",
        "\n",
        "\n",
        "    def set_conv_model(self, model_type):\n",
        "        \"\"\"\n",
        "             Based on input mode_type return the convolution layer. \n",
        "             You can use in-built pytorch geometric modules\n",
        "             model_type: {'GCN','SAGE','GAT'}\n",
        "        \"\"\"\n",
        "        #### Your code starts here #######  \n",
        "        if model_type=='GCN':\n",
        "          return GCNConv\n",
        "        elif model_type=='SAGE':\n",
        "          return SAGEConv\n",
        "        elif model_type=='GAT':\n",
        "          return GATConv\n",
        "        ######Your code ends here###############3\n",
        "        return NULL\n",
        "\n",
        "    def forward(self, data):\n",
        "        \"\"\"\n",
        "            Implement forards pass here\n",
        "            comment \"return x\" and implement your own return statement\n",
        "        \"\"\"\n",
        "        x, edge_index, batch = data.x, data.edge_index, data.batch\n",
        "        #####Your code starts here######  \n",
        "        for layer in self.conv_layers[:-1]:\n",
        "          x = layer(x, edge_index)\n",
        "          x = F.relu(x)\n",
        "          x = F.dropout(x, p=self.dropout, training=self.training)\n",
        "        x = self.conv_layers[-1](x, edge_index)\n",
        "        ######Your code ends here##########\n",
        "        return F.log_softmax(x, dim=1)  \n",
        "\n",
        "    def loss(self, pred, label):\n",
        "        return F.nll_loss(pred, label)\n"
      ],
      "execution_count": 6,
      "outputs": []
    },
    {
      "cell_type": "markdown",
      "metadata": {
        "id": "OsgG-XaO6aVy"
      },
      "source": [
        "## Implement train_ES using code from train and add early stopping functionality"
      ]
    },
    {
      "cell_type": "code",
      "metadata": {
        "id": "KP5suG9c6Zvq"
      },
      "source": [
        "def train_ES(dataset, args):\n",
        "    \"\"\"\n",
        "      Refer to code in train (copy-paste useful part), incorporate earlystopping \n",
        "    \"\"\"\n",
        "    patience = 50\n",
        "    loader = DataLoader(dataset, batch_size=args.batch_size, shuffle=True)\n",
        "\n",
        "    # build model\n",
        "    model = GNNFactory(dataset.num_node_features, args.hidden_dim, dataset.num_classes, \n",
        "                            args)\n",
        "    opt = optim.Adam(filter(lambda p : p.requires_grad, model.parameters()),\\\n",
        "                           lr=args.lr, weight_decay=args.weight_decay)\n",
        "    print(model)\n",
        "    # train\n",
        "    losses = []\n",
        "    val_accs = []\n",
        "    best_acc=-1\n",
        "    best_epoch=0\n",
        "    best_model=None\n",
        "    for epoch in range(args.epochs):\n",
        "        total_loss = 0\n",
        "        model.train()\n",
        "        for batch in loader:\n",
        "            opt.zero_grad()\n",
        "            pred = model(batch)\n",
        "            label = batch.y\n",
        "            pred = pred[batch.train_mask]\n",
        "            label = label[batch.train_mask]\n",
        "            loss = model.loss(pred, label)\n",
        "            loss.backward()\n",
        "            opt.step()\n",
        "            total_loss += loss.item() * batch.num_graphs\n",
        "        total_loss /= len(loader.dataset)\n",
        "        losses.append(total_loss)\n",
        "\n",
        "        val_acc = test(loader, model)\n",
        "        val_accs.append(val_acc)\n",
        "        print(\"Epoch \", epoch, \"Loss: \", total_loss, \"Val Acc.: \", val_acc)\n",
        "\n",
        "        if val_acc > best_acc:\n",
        "          best_acc = val_acc\n",
        "          best_epoch = epoch\n",
        "          files = glob.glob('*.pkl')\n",
        "          for file in files:\n",
        "            os.remove(file)\n",
        "          torch.save(model.state_dict(), '{}.pkl'.format(epoch))\n",
        "        else:\n",
        "          if epoch > best_epoch+patience:\n",
        "            break\n",
        "\n",
        "    model.load_state_dict(torch.load('{}.pkl'.format(best_epoch)))\n",
        "    print(\"Test Acc: \", test(loader, model, is_validation=False))\n",
        "\n",
        "    files = glob.glob('*.pkl')\n",
        "    for file in files:\n",
        "      os.remove(file)\n",
        "\n",
        "    return val_accs, losses"
      ],
      "execution_count": 7,
      "outputs": []
    },
    {
      "cell_type": "markdown",
      "metadata": {
        "id": "hxxuD0BEzwbr"
      },
      "source": [
        "## After implementing GNNFactory and train_ES,  run this cell to obtain the plot for training loss and validation accuracy across epochs"
      ]
    },
    {
      "cell_type": "code",
      "metadata": {
        "id": "K4Xv5qnXzvJB",
        "colab": {
          "base_uri": "https://localhost:8080/",
          "height": 1000
        },
        "outputId": "4156f4e3-2a17-4b6a-8eb3-f3311c0af2ad"
      },
      "source": [
        "from google.colab import files\n",
        "\n",
        "args = {\n",
        "        'model_type': 'GAT',\n",
        "        'dataset': 'citeseer', #\"cora/\"citeseer\"\n",
        "        'num_layers': 3,\n",
        "        'batch_size': 32,\n",
        "        'hidden_dim': 256,\n",
        "        'dropout': 0.6,\n",
        "        'epochs': 1000, \n",
        "        'opt': 'adam',\n",
        "        'weight_decay': 2e-2,\n",
        "        'lr': 0.009\n",
        "      }\n",
        "args = objectview(args)\n",
        "\n",
        "run(args)\n",
        "\n",
        "files.download(f\"{args.model_type}_{args.dataset}_best.png\") "
      ],
      "execution_count": 68,
      "outputs": [
        {
          "output_type": "stream",
          "name": "stdout",
          "text": [
            "GNNFactory(\n",
            "  (conv_layers): ModuleList(\n",
            "    (0): GATConv(3703, 256, heads=1)\n",
            "    (1): GATConv(256, 256, heads=1)\n",
            "    (2): GATConv(256, 6, heads=1)\n",
            "  )\n",
            ")\n",
            "Epoch  0 Loss:  1.7958077192306519 Val Acc.:  0.58\n",
            "Epoch  1 Loss:  1.6608333587646484 Val Acc.:  0.658\n",
            "Epoch  2 Loss:  1.4629415273666382 Val Acc.:  0.684\n",
            "Epoch  3 Loss:  1.122999906539917 Val Acc.:  0.708\n",
            "Epoch  4 Loss:  0.7644346952438354 Val Acc.:  0.696\n",
            "Epoch  5 Loss:  0.4703187346458435 Val Acc.:  0.63\n",
            "Epoch  6 Loss:  0.28835028409957886 Val Acc.:  0.652\n",
            "Epoch  7 Loss:  0.2098509520292282 Val Acc.:  0.68\n",
            "Epoch  8 Loss:  0.20546403527259827 Val Acc.:  0.686\n",
            "Epoch  9 Loss:  0.1615537703037262 Val Acc.:  0.638\n",
            "Epoch  10 Loss:  0.15333431959152222 Val Acc.:  0.668\n",
            "Epoch  11 Loss:  0.1521596908569336 Val Acc.:  0.672\n",
            "Epoch  12 Loss:  0.17639587819576263 Val Acc.:  0.688\n",
            "Epoch  13 Loss:  0.150003120303154 Val Acc.:  0.682\n",
            "Epoch  14 Loss:  0.20235425233840942 Val Acc.:  0.69\n",
            "Epoch  15 Loss:  0.23444484174251556 Val Acc.:  0.676\n",
            "Epoch  16 Loss:  0.2150486260652542 Val Acc.:  0.67\n",
            "Epoch  17 Loss:  0.23464716970920563 Val Acc.:  0.67\n",
            "Epoch  18 Loss:  0.16932934522628784 Val Acc.:  0.694\n",
            "Epoch  19 Loss:  0.17195820808410645 Val Acc.:  0.694\n",
            "Epoch  20 Loss:  0.1409018635749817 Val Acc.:  0.694\n",
            "Epoch  21 Loss:  0.15723638236522675 Val Acc.:  0.678\n",
            "Epoch  22 Loss:  0.1109260767698288 Val Acc.:  0.672\n",
            "Epoch  23 Loss:  0.1330123096704483 Val Acc.:  0.66\n",
            "Epoch  24 Loss:  0.12087536603212357 Val Acc.:  0.68\n",
            "Epoch  25 Loss:  0.11964785307645798 Val Acc.:  0.676\n",
            "Epoch  26 Loss:  0.12124304473400116 Val Acc.:  0.662\n",
            "Epoch  27 Loss:  0.12921181321144104 Val Acc.:  0.664\n",
            "Epoch  28 Loss:  0.12897171080112457 Val Acc.:  0.664\n",
            "Epoch  29 Loss:  0.13856595754623413 Val Acc.:  0.658\n",
            "Epoch  30 Loss:  0.12174840271472931 Val Acc.:  0.666\n",
            "Epoch  31 Loss:  0.10682018846273422 Val Acc.:  0.68\n",
            "Epoch  32 Loss:  0.12790925800800323 Val Acc.:  0.686\n",
            "Epoch  33 Loss:  0.09771741926670074 Val Acc.:  0.682\n",
            "Epoch  34 Loss:  0.09260839968919754 Val Acc.:  0.676\n",
            "Epoch  35 Loss:  0.08941112458705902 Val Acc.:  0.658\n",
            "Epoch  36 Loss:  0.08408047258853912 Val Acc.:  0.668\n",
            "Epoch  37 Loss:  0.07556566596031189 Val Acc.:  0.676\n",
            "Epoch  38 Loss:  0.071417897939682 Val Acc.:  0.68\n",
            "Epoch  39 Loss:  0.1362832486629486 Val Acc.:  0.676\n",
            "Epoch  40 Loss:  0.11070447415113449 Val Acc.:  0.668\n",
            "Epoch  41 Loss:  0.10917463153600693 Val Acc.:  0.67\n",
            "Epoch  42 Loss:  0.10071276128292084 Val Acc.:  0.67\n",
            "Epoch  43 Loss:  0.08374981582164764 Val Acc.:  0.668\n",
            "Epoch  44 Loss:  0.08338218182325363 Val Acc.:  0.678\n",
            "Epoch  45 Loss:  0.09023665636777878 Val Acc.:  0.664\n",
            "Epoch  46 Loss:  0.09845802187919617 Val Acc.:  0.668\n",
            "Epoch  47 Loss:  0.08746495842933655 Val Acc.:  0.674\n",
            "Epoch  48 Loss:  0.0776379182934761 Val Acc.:  0.674\n",
            "Epoch  49 Loss:  0.07168476283550262 Val Acc.:  0.674\n",
            "Epoch  50 Loss:  0.07492958009243011 Val Acc.:  0.678\n",
            "Epoch  51 Loss:  0.09076668322086334 Val Acc.:  0.682\n",
            "Epoch  52 Loss:  0.08609269559383392 Val Acc.:  0.678\n",
            "Epoch  53 Loss:  0.08128377050161362 Val Acc.:  0.668\n",
            "Epoch  54 Loss:  0.07200887054204941 Val Acc.:  0.664\n",
            "Test Acc:  0.697\n"
          ]
        },
        {
          "output_type": "display_data",
          "data": {
            "image/png": "[encoded data removed]",
            "text/plain": [
              "<Figure size 432x288 with 1 Axes>"
            ]
          },
          "metadata": {
            "needs_background": "light"
          }
        },
        {
          "output_type": "display_data",
          "data": {
            "application/javascript": [
              "\n",
              "    async function download(id, filename, size) {\n",
              "      if (!google.colab.kernel.accessAllowed) {\n",
              "        return;\n",
              "      }\n",
              "      const div = document.createElement('div');\n",
              "      const label = document.createElement('label');\n",
              "      label.textContent = `Downloading \"${filename}\": `;\n",
              "      div.appendChild(label);\n",
              "      const progress = document.createElement('progress');\n",
              "      progress.max = size;\n",
              "      div.appendChild(progress);\n",
              "      document.body.appendChild(div);\n",
              "\n",
              "      const buffers = [];\n",
              "      let downloaded = 0;\n",
              "\n",
              "      const channel = await google.colab.kernel.comms.open(id);\n",
              "      // Send a message to notify the kernel that we're ready.\n",
              "      channel.send({})\n",
              "\n",
              "      for await (const message of channel.messages) {\n",
              "        // Send a message to notify the kernel that we're ready.\n",
              "        channel.send({})\n",
              "        if (message.buffers) {\n",
              "          for (const buffer of message.buffers) {\n",
              "            buffers.push(buffer);\n",
              "            downloaded += buffer.byteLength;\n",
              "            progress.value = downloaded;\n",
              "          }\n",
              "        }\n",
              "      }\n",
              "      const blob = new Blob(buffers, {type: 'application/binary'});\n",
              "      const a = document.createElement('a');\n",
              "      a.href = window.URL.createObjectURL(blob);\n",
              "      a.download = filename;\n",
              "      div.appendChild(a);\n",
              "      a.click();\n",
              "      div.remove();\n",
              "    }\n",
              "  "
            ],
            "text/plain": [
              "<IPython.core.display.Javascript object>"
            ]
          },
          "metadata": {}
        },
        {
          "output_type": "display_data",
          "data": {
            "application/javascript": [
              "download(\"download_625d9066-b81c-4211-aaee-0e8b99aa304b\", \"GAT_citeseer_best.png\", 165000)"
            ],
            "text/plain": [
              "<IPython.core.display.Javascript object>"
            ]
          },
          "metadata": {}
        }
      ]
    },
    {
      "cell_type": "markdown",
      "metadata": {
        "id": "gb2Euxay7YMe"
      },
      "source": [
        "TASKLIST: \n",
        "1. Implementation of the GNNFactory function [40 marks]<br>\n",
        "   Write a brief description of your model.(2-3 sentences) \n",
        "2. Implement early stopping  functionality: with patience parameter 50  [10 marks]<br>\n",
        "   Description: During training, track performance on validation set and\n",
        "   stop training if validation set performance does not improve for X epochs (X=50)<br>\n",
        "   You will be keeping track of the best validation model, which will be used for reporting test accuracy<br>\n",
        "   The current train function trains args.epochs number of epochs. <br>\n",
        "   Write your own train function (my_train)<br>\n",
        "\n",
        "3. Reporting best test accuracy across hyperparameters: [30 marks]<br>\n",
        "   Tune hyperparameters (num_layers,batch_size,hidden_dim,dropout,weight_decay,lr) to obtain best performance<br>\n",
        "   for [\"GCN\",\"SAGE\",\"GAT\"] and [\"cora\",\"citeseer\"]:<br>\n",
        "     a. Report the hyperparameters used for obtaining best performance in each of the 6 cases<br>\n",
        "     b. plot the training loss and validation accuracy across epochs in all 6 cases<br>\n",
        "     c. create a 3*2 table reporting the test accuracies<br>\n",
        "4.For the following, use the hyperparameters giving best performance. \n",
        "Change only one hyperparameter at a time, and observe impact of test accuracy [20 marks]<br>\n",
        "Take \"cora\", and for [\"GCN\",\"SAGE\"]: <br>\n",
        "a. set num_layers to [1..10] and plot change in test accuracy. <br>\n",
        "b. set hidden_dim to [8,16,32,64,128,256] and  plot change in test accuracy.<br>\n",
        "\n",
        "DELIVERABLES: \n",
        "1. Make a copy of this colab and submit a notebook with your modifications. \n",
        "  Generate a separate plot in each cell. Ensure reproducibility of plots. \n",
        "2. Summit a pdf with the descriptions. Write the description from (1), all tables and plots into the pdf. "
      ]
    },
    {
      "cell_type": "markdown",
      "metadata": {
        "id": "dNBCKqVRr0UT"
      },
      "source": [
        "# Generate Plots, changing num_layers"
      ]
    },
    {
      "cell_type": "code",
      "metadata": {
        "id": "32LZw0zrrzK5"
      },
      "source": [
        "def train_ESTest(dataset, args):\n",
        "    \"\"\"\n",
        "      Refer to code in train (copy-paste useful part), incorporate earlystopping \n",
        "    \"\"\"\n",
        "    patience = 50\n",
        "    loader = DataLoader(dataset, batch_size=args.batch_size, shuffle=True)\n",
        "\n",
        "    # build model\n",
        "    model = GNNFactory(dataset.num_node_features, args.hidden_dim, dataset.num_classes, \n",
        "                            args)\n",
        "    opt = optim.Adam(filter(lambda p : p.requires_grad, model.parameters()),\\\n",
        "                           lr=args.lr, weight_decay=args.weight_decay)\n",
        "    print(model)\n",
        "    # train\n",
        "    losses = []\n",
        "    val_accs = []\n",
        "    best_acc=-1\n",
        "    best_epoch=0\n",
        "    best_model=None\n",
        "    for epoch in range(args.epochs):\n",
        "        total_loss = 0\n",
        "        model.train()\n",
        "        for batch in loader:\n",
        "            opt.zero_grad()\n",
        "            pred = model(batch)\n",
        "            label = batch.y\n",
        "            pred = pred[batch.train_mask]\n",
        "            label = label[batch.train_mask]\n",
        "            loss = model.loss(pred, label)\n",
        "            loss.backward()\n",
        "            opt.step()\n",
        "            total_loss += loss.item() * batch.num_graphs\n",
        "        total_loss /= len(loader.dataset)\n",
        "        losses.append(total_loss)\n",
        "\n",
        "        val_acc = test(loader, model)\n",
        "        val_accs.append(val_acc)\n",
        "        # print(\"Epoch \", epoch, \"Loss: \", total_loss, \"Val Acc.: \", val_acc)\n",
        "\n",
        "        if val_acc > best_acc:\n",
        "          best_acc = val_acc\n",
        "          best_epoch = epoch\n",
        "          files = glob.glob('*.pkl')\n",
        "          for file in files:\n",
        "            os.remove(file)\n",
        "          torch.save(model.state_dict(), '{}.pkl'.format(epoch))\n",
        "        else:\n",
        "          if epoch > best_epoch+patience:\n",
        "            break\n",
        "\n",
        "    model.load_state_dict(torch.load('{}.pkl'.format(best_epoch)))\n",
        "    test_acc = test(loader, model, is_validation=False)\n",
        "    # print(\"Test Acc: \", test(loader, model, is_validation=False))\n",
        "\n",
        "    files = glob.glob('*.pkl')\n",
        "    for file in files:\n",
        "      os.remove(file)\n",
        "\n",
        "    return val_accs, losses, test_acc"
      ],
      "execution_count": 23,
      "outputs": []
    },
    {
      "cell_type": "markdown",
      "metadata": {
        "id": "YLCY_kf9tizY"
      },
      "source": [
        "# `GCN - cora - num_layers -> 1 ... 10`"
      ]
    },
    {
      "cell_type": "code",
      "metadata": {
        "id": "-v8rLEj17ZJH",
        "colab": {
          "base_uri": "https://localhost:8080/",
          "height": 315
        },
        "outputId": "af0edea6-df9d-4f77-f430-95a8054c4582"
      },
      "source": [
        "from google.colab import files\n",
        "\n",
        "test_accs = []\n",
        "\n",
        "for i in range(1, 11):\n",
        "  args = {\n",
        "          'model_type': 'GCN',\n",
        "          'dataset': 'cora', #\"cora/\"citeseer\"\n",
        "          'num_layers': i,\n",
        "          'batch_size': 32,\n",
        "          'hidden_dim': 32,\n",
        "          'dropout': 0.6,\n",
        "          'epochs': 1000, \n",
        "          'opt': 'adam',\n",
        "          'weight_decay': 1e-2,\n",
        "          'lr': 0.01\n",
        "        }\n",
        "  args = objectview(args)\n",
        "\n",
        "  dataset = Planetoid('/tmp/'+args.dataset, args.dataset)\n",
        "  val_accs, losses, test_acc = train_ESTest(dataset, args)\n",
        "  \n",
        "  test_accs += [test_acc]\n",
        "\n",
        "print(test_accs)\n",
        "\n",
        "plt.title(f\"Model: {args.model_type} Dataset: {dataset.name}\")\n",
        "plt.plot(range(1, 11), test_accs, \"ro--\", label=f\"test accuracy - {args.model_type}\", linewidth=2)\n",
        "plt.xticks(range(1, 11))\n",
        "plt.xlabel(\"num_layers\")\n",
        "plt.ylabel(\"test accuracy\")\n",
        "plt.legend()\n",
        "plt.savefig(f\"{args.model_type}_numlayers.png\", dpi=500)\n",
        "plt.show()\n",
        "files.download(f\"{args.model_type}_numlayers.png\") "
      ],
      "execution_count": 37,
      "outputs": [
        {
          "output_type": "stream",
          "name": "stdout",
          "text": [
            "[0.787, 0.812, 0.822, 0.789, 0.742, 0.742, 0.304, 0.214, 0.24, 0.319]\n"
          ]
        },
        {
          "output_type": "display_data",
          "data": {
            "image/png": "[encoded data removed]",
            "text/plain": [
              "<Figure size 432x288 with 1 Axes>"
            ]
          },
          "metadata": {
            "needs_background": "light"
          }
        },
        {
          "output_type": "display_data",
          "data": {
            "application/javascript": [
              "\n",
              "    async function download(id, filename, size) {\n",
              "      if (!google.colab.kernel.accessAllowed) {\n",
              "        return;\n",
              "      }\n",
              "      const div = document.createElement('div');\n",
              "      const label = document.createElement('label');\n",
              "      label.textContent = `Downloading \"${filename}\": `;\n",
              "      div.appendChild(label);\n",
              "      const progress = document.createElement('progress');\n",
              "      progress.max = size;\n",
              "      div.appendChild(progress);\n",
              "      document.body.appendChild(div);\n",
              "\n",
              "      const buffers = [];\n",
              "      let downloaded = 0;\n",
              "\n",
              "      const channel = await google.colab.kernel.comms.open(id);\n",
              "      // Send a message to notify the kernel that we're ready.\n",
              "      channel.send({})\n",
              "\n",
              "      for await (const message of channel.messages) {\n",
              "        // Send a message to notify the kernel that we're ready.\n",
              "        channel.send({})\n",
              "        if (message.buffers) {\n",
              "          for (const buffer of message.buffers) {\n",
              "            buffers.push(buffer);\n",
              "            downloaded += buffer.byteLength;\n",
              "            progress.value = downloaded;\n",
              "          }\n",
              "        }\n",
              "      }\n",
              "      const blob = new Blob(buffers, {type: 'application/binary'});\n",
              "      const a = document.createElement('a');\n",
              "      a.href = window.URL.createObjectURL(blob);\n",
              "      a.download = filename;\n",
              "      div.appendChild(a);\n",
              "      a.click();\n",
              "      div.remove();\n",
              "    }\n",
              "  "
            ],
            "text/plain": [
              "<IPython.core.display.Javascript object>"
            ]
          },
          "metadata": {}
        },
        {
          "output_type": "display_data",
          "data": {
            "application/javascript": [
              "download(\"download_52487a77-6427-4974-a9f9-b98b1f820751\", \"GCN_numlayers.png\", 165684)"
            ],
            "text/plain": [
              "<IPython.core.display.Javascript object>"
            ]
          },
          "metadata": {}
        }
      ]
    },
    {
      "cell_type": "markdown",
      "metadata": {
        "id": "1i8Kkc77twAR"
      },
      "source": [
        "# `SAGE - cora - num_layers -> 1 ... 10`"
      ]
    },
    {
      "cell_type": "code",
      "metadata": {
        "colab": {
          "base_uri": "https://localhost:8080/",
          "height": 315
        },
        "id": "qoF1K2-tth7P",
        "outputId": "15d30def-c28d-41a8-d775-cffac25a21ab"
      },
      "source": [
        "from google.colab import files\n",
        "\n",
        "test_accs = []\n",
        "\n",
        "for i in range(1, 11):\n",
        "  args = {\n",
        "          'model_type': 'SAGE',\n",
        "          'dataset': 'cora', #\"cora/\"citeseer\"\n",
        "          'num_layers': i,\n",
        "          'batch_size': 32,\n",
        "          'hidden_dim': 40,\n",
        "          'dropout': 0.6,\n",
        "          'epochs': 1000, \n",
        "          'opt': 'adam',\n",
        "          'weight_decay': 2e-2,\n",
        "          'lr': 0.009\n",
        "        }\n",
        "  args = objectview(args)\n",
        "\n",
        "  dataset = Planetoid('/tmp/'+args.dataset, args.dataset)\n",
        "  val_accs, losses, test_acc = train_ESTest(dataset, args)\n",
        "  \n",
        "  test_accs += [test_acc]\n",
        "\n",
        "print(test_accs)\n",
        "\n",
        "plt.title(f\"Model: {args.model_type} Dataset: {dataset.name}\")\n",
        "plt.plot(range(1, 11), test_accs, \"ro--\", label=f\"test accuracy - {args.model_type}\", linewidth=2)\n",
        "plt.xticks(range(1, 11))\n",
        "plt.xlabel(\"num_layers\")\n",
        "plt.ylabel(\"test accuracy\")\n",
        "plt.legend()\n",
        "plt.savefig(f\"{args.model_type}_numlayers.png\", dpi=500)\n",
        "plt.show()\n",
        "files.download(f\"{args.model_type}_numlayers.png\") "
      ],
      "execution_count": 36,
      "outputs": [
        {
          "output_type": "stream",
          "name": "stdout",
          "text": [
            "[0.74, 0.807, 0.824, 0.788, 0.763, 0.746, 0.319, 0.319, 0.319, 0.319]\n"
          ]
        },
        {
          "output_type": "display_data",
          "data": {
            "image/png": "[encoded data removed]",
            "text/plain": [
              "<Figure size 432x288 with 1 Axes>"
            ]
          },
          "metadata": {
            "needs_background": "light"
          }
        },
        {
          "output_type": "display_data",
          "data": {
            "application/javascript": [
              "\n",
              "    async function download(id, filename, size) {\n",
              "      if (!google.colab.kernel.accessAllowed) {\n",
              "        return;\n",
              "      }\n",
              "      const div = document.createElement('div');\n",
              "      const label = document.createElement('label');\n",
              "      label.textContent = `Downloading \"${filename}\": `;\n",
              "      div.appendChild(label);\n",
              "      const progress = document.createElement('progress');\n",
              "      progress.max = size;\n",
              "      div.appendChild(progress);\n",
              "      document.body.appendChild(div);\n",
              "\n",
              "      const buffers = [];\n",
              "      let downloaded = 0;\n",
              "\n",
              "      const channel = await google.colab.kernel.comms.open(id);\n",
              "      // Send a message to notify the kernel that we're ready.\n",
              "      channel.send({})\n",
              "\n",
              "      for await (const message of channel.messages) {\n",
              "        // Send a message to notify the kernel that we're ready.\n",
              "        channel.send({})\n",
              "        if (message.buffers) {\n",
              "          for (const buffer of message.buffers) {\n",
              "            buffers.push(buffer);\n",
              "            downloaded += buffer.byteLength;\n",
              "            progress.value = downloaded;\n",
              "          }\n",
              "        }\n",
              "      }\n",
              "      const blob = new Blob(buffers, {type: 'application/binary'});\n",
              "      const a = document.createElement('a');\n",
              "      a.href = window.URL.createObjectURL(blob);\n",
              "      a.download = filename;\n",
              "      div.appendChild(a);\n",
              "      a.click();\n",
              "      div.remove();\n",
              "    }\n",
              "  "
            ],
            "text/plain": [
              "<IPython.core.display.Javascript object>"
            ]
          },
          "metadata": {}
        },
        {
          "output_type": "display_data",
          "data": {
            "application/javascript": [
              "download(\"download_ff383b1e-648a-49d5-9562-36862b5cddc8\", \"SAGE_numlayers.png\", 161039)"
            ],
            "text/plain": [
              "<IPython.core.display.Javascript object>"
            ]
          },
          "metadata": {}
        }
      ]
    },
    {
      "cell_type": "markdown",
      "metadata": {
        "id": "ZjijuTOHyg9i"
      },
      "source": [
        "# ```GCN - cora - hidden_dim 8:x2:256```"
      ]
    },
    {
      "cell_type": "code",
      "metadata": {
        "colab": {
          "base_uri": "https://localhost:8080/",
          "height": 1000
        },
        "id": "du95E-UVyOYo",
        "outputId": "5481ad3f-6228-4d39-806c-b94c42491c1b"
      },
      "source": [
        "from google.colab import files\n",
        "\n",
        "test_accs = []\n",
        "\n",
        "for i in range(6):\n",
        "  args = {\n",
        "          'model_type': 'GCN',\n",
        "          'dataset': 'cora', #\"cora/\"citeseer\"\n",
        "          'num_layers': 3,\n",
        "          'batch_size': 32,\n",
        "          'hidden_dim': 8*(1<<i),\n",
        "          'dropout': 0.6,\n",
        "          'epochs': 1000, \n",
        "          'opt': 'adam',\n",
        "          'weight_decay': 1e-2,\n",
        "          'lr': 0.01\n",
        "        }\n",
        "  args = objectview(args)\n",
        "\n",
        "  dataset = Planetoid('/tmp/'+args.dataset, args.dataset)\n",
        "  val_accs, losses, test_acc = train_ESTest(dataset, args)\n",
        "  \n",
        "  test_accs += [test_acc]\n",
        "\n",
        "print(test_accs)\n",
        "\n",
        "plt.title(f\"Model: {args.model_type} Dataset: {dataset.name}\")\n",
        "plt.plot([8*(1<<i) for i in range(6)], test_accs, \"ro--\", label=f\"test accuracy - {args.model_type}\", linewidth=2)\n",
        "plt.xlabel(\"hidden_dim\")\n",
        "plt.ylabel(\"test accuracy\")\n",
        "plt.xticks([8*(1<<i) for i in range(6)])\n",
        "plt.legend()\n",
        "plt.savefig(f\"{args.model_type}_hiddendim.png\", dpi=500)\n",
        "plt.show()\n",
        "files.download(f\"{args.model_type}_hiddendim.png\") "
      ],
      "execution_count": 38,
      "outputs": [
        {
          "output_type": "stream",
          "name": "stdout",
          "text": [
            "GNNFactory(\n",
            "  (conv_layers): ModuleList(\n",
            "    (0): GCNConv(1433, 8)\n",
            "    (1): GCNConv(8, 8)\n",
            "    (2): GCNConv(8, 7)\n",
            "  )\n",
            ")\n",
            "GNNFactory(\n",
            "  (conv_layers): ModuleList(\n",
            "    (0): GCNConv(1433, 16)\n",
            "    (1): GCNConv(16, 16)\n",
            "    (2): GCNConv(16, 7)\n",
            "  )\n",
            ")\n",
            "GNNFactory(\n",
            "  (conv_layers): ModuleList(\n",
            "    (0): GCNConv(1433, 32)\n",
            "    (1): GCNConv(32, 32)\n",
            "    (2): GCNConv(32, 7)\n",
            "  )\n",
            ")\n",
            "GNNFactory(\n",
            "  (conv_layers): ModuleList(\n",
            "    (0): GCNConv(1433, 64)\n",
            "    (1): GCNConv(64, 64)\n",
            "    (2): GCNConv(64, 7)\n",
            "  )\n",
            ")\n",
            "GNNFactory(\n",
            "  (conv_layers): ModuleList(\n",
            "    (0): GCNConv(1433, 128)\n",
            "    (1): GCNConv(128, 128)\n",
            "    (2): GCNConv(128, 7)\n",
            "  )\n",
            ")\n",
            "GNNFactory(\n",
            "  (conv_layers): ModuleList(\n",
            "    (0): GCNConv(1433, 256)\n",
            "    (1): GCNConv(256, 256)\n",
            "    (2): GCNConv(256, 7)\n",
            "  )\n",
            ")\n",
            "[0.808, 0.817, 0.822, 0.819, 0.827, 0.841]\n"
          ]
        },
        {
          "output_type": "display_data",
          "data": {
            "image/png": "[encoded data removed]",
            "text/plain": [
              "<Figure size 432x288 with 1 Axes>"
            ]
          },
          "metadata": {
            "needs_background": "light"
          }
        },
        {
          "output_type": "display_data",
          "data": {
            "application/javascript": [
              "\n",
              "    async function download(id, filename, size) {\n",
              "      if (!google.colab.kernel.accessAllowed) {\n",
              "        return;\n",
              "      }\n",
              "      const div = document.createElement('div');\n",
              "      const label = document.createElement('label');\n",
              "      label.textContent = `Downloading \"${filename}\": `;\n",
              "      div.appendChild(label);\n",
              "      const progress = document.createElement('progress');\n",
              "      progress.max = size;\n",
              "      div.appendChild(progress);\n",
              "      document.body.appendChild(div);\n",
              "\n",
              "      const buffers = [];\n",
              "      let downloaded = 0;\n",
              "\n",
              "      const channel = await google.colab.kernel.comms.open(id);\n",
              "      // Send a message to notify the kernel that we're ready.\n",
              "      channel.send({})\n",
              "\n",
              "      for await (const message of channel.messages) {\n",
              "        // Send a message to notify the kernel that we're ready.\n",
              "        channel.send({})\n",
              "        if (message.buffers) {\n",
              "          for (const buffer of message.buffers) {\n",
              "            buffers.push(buffer);\n",
              "            downloaded += buffer.byteLength;\n",
              "            progress.value = downloaded;\n",
              "          }\n",
              "        }\n",
              "      }\n",
              "      const blob = new Blob(buffers, {type: 'application/binary'});\n",
              "      const a = document.createElement('a');\n",
              "      a.href = window.URL.createObjectURL(blob);\n",
              "      a.download = filename;\n",
              "      div.appendChild(a);\n",
              "      a.click();\n",
              "      div.remove();\n",
              "    }\n",
              "  "
            ],
            "text/plain": [
              "<IPython.core.display.Javascript object>"
            ]
          },
          "metadata": {}
        },
        {
          "output_type": "display_data",
          "data": {
            "application/javascript": [
              "download(\"download_74b8d0f9-5867-450a-b4aa-a0e6eb365f91\", \"GCN_hiddendim.png\", 192326)"
            ],
            "text/plain": [
              "<IPython.core.display.Javascript object>"
            ]
          },
          "metadata": {}
        }
      ]
    },
    {
      "cell_type": "markdown",
      "metadata": {
        "id": "8e1Dg1L4yyfO"
      },
      "source": [
        "# ```SAGE - cora - hidden_dim 8:x2:256```"
      ]
    },
    {
      "cell_type": "code",
      "metadata": {
        "colab": {
          "base_uri": "https://localhost:8080/",
          "height": 1000
        },
        "id": "xMZW62DYy1Bk",
        "outputId": "3a7e15af-5be2-4f1c-baa1-61725b0649e7"
      },
      "source": [
        "from google.colab import files\n",
        "\n",
        "test_accs = []\n",
        "\n",
        "for i in range(6):\n",
        "  args = {\n",
        "          'model_type': 'SAGE',\n",
        "          'dataset': 'cora', #\"cora/\"citeseer\"\n",
        "          'num_layers': 3,\n",
        "          'batch_size': 32,\n",
        "          'hidden_dim': 8*(1<<i),\n",
        "          'dropout': 0.6,\n",
        "          'epochs': 1000, \n",
        "          'opt': 'adam',\n",
        "          'weight_decay': 2e-2,\n",
        "          'lr': 0.009\n",
        "        }\n",
        "  args = objectview(args)\n",
        "\n",
        "  dataset = Planetoid('/tmp/'+args.dataset, args.dataset)\n",
        "  val_accs, losses, test_acc = train_ESTest(dataset, args)\n",
        "  \n",
        "  test_accs += [test_acc]\n",
        "\n",
        "print(test_accs)\n",
        "\n",
        "plt.title(f\"Model: {args.model_type} Dataset: {dataset.name}\")\n",
        "plt.plot([8*(1<<i) for i in range(6)], test_accs, \"ro--\", label=f\"test accuracy - {args.model_type}\", linewidth=2)\n",
        "plt.xlabel(\"hidden_dim\")\n",
        "plt.ylabel(\"test accuracy\")\n",
        "plt.xticks([8*(1<<i) for i in range(6)])\n",
        "plt.legend()\n",
        "plt.savefig(f\"{args.model_type}_hiddendim.png\", dpi=500)\n",
        "plt.show()\n",
        "files.download(f\"{args.model_type}_hiddendim.png\") "
      ],
      "execution_count": 40,
      "outputs": [
        {
          "output_type": "stream",
          "name": "stdout",
          "text": [
            "GNNFactory(\n",
            "  (conv_layers): ModuleList(\n",
            "    (0): SAGEConv(1433, 8)\n",
            "    (1): SAGEConv(8, 8)\n",
            "    (2): SAGEConv(8, 7)\n",
            "  )\n",
            ")\n",
            "GNNFactory(\n",
            "  (conv_layers): ModuleList(\n",
            "    (0): SAGEConv(1433, 16)\n",
            "    (1): SAGEConv(16, 16)\n",
            "    (2): SAGEConv(16, 7)\n",
            "  )\n",
            ")\n",
            "GNNFactory(\n",
            "  (conv_layers): ModuleList(\n",
            "    (0): SAGEConv(1433, 32)\n",
            "    (1): SAGEConv(32, 32)\n",
            "    (2): SAGEConv(32, 7)\n",
            "  )\n",
            ")\n",
            "GNNFactory(\n",
            "  (conv_layers): ModuleList(\n",
            "    (0): SAGEConv(1433, 64)\n",
            "    (1): SAGEConv(64, 64)\n",
            "    (2): SAGEConv(64, 7)\n",
            "  )\n",
            ")\n",
            "GNNFactory(\n",
            "  (conv_layers): ModuleList(\n",
            "    (0): SAGEConv(1433, 128)\n",
            "    (1): SAGEConv(128, 128)\n",
            "    (2): SAGEConv(128, 7)\n",
            "  )\n",
            ")\n",
            "GNNFactory(\n",
            "  (conv_layers): ModuleList(\n",
            "    (0): SAGEConv(1433, 256)\n",
            "    (1): SAGEConv(256, 256)\n",
            "    (2): SAGEConv(256, 7)\n",
            "  )\n",
            ")\n",
            "[0.777, 0.762, 0.803, 0.811, 0.802, 0.812]\n"
          ]
        },
        {
          "output_type": "display_data",
          "data": {
            "image/png": "[encoded data removed]",
            "text/plain": [
              "<Figure size 432x288 with 1 Axes>"
            ]
          },
          "metadata": {
            "needs_background": "light"
          }
        },
        {
          "output_type": "display_data",
          "data": {
            "application/javascript": [
              "\n",
              "    async function download(id, filename, size) {\n",
              "      if (!google.colab.kernel.accessAllowed) {\n",
              "        return;\n",
              "      }\n",
              "      const div = document.createElement('div');\n",
              "      const label = document.createElement('label');\n",
              "      label.textContent = `Downloading \"${filename}\": `;\n",
              "      div.appendChild(label);\n",
              "      const progress = document.createElement('progress');\n",
              "      progress.max = size;\n",
              "      div.appendChild(progress);\n",
              "      document.body.appendChild(div);\n",
              "\n",
              "      const buffers = [];\n",
              "      let downloaded = 0;\n",
              "\n",
              "      const channel = await google.colab.kernel.comms.open(id);\n",
              "      // Send a message to notify the kernel that we're ready.\n",
              "      channel.send({})\n",
              "\n",
              "      for await (const message of channel.messages) {\n",
              "        // Send a message to notify the kernel that we're ready.\n",
              "        channel.send({})\n",
              "        if (message.buffers) {\n",
              "          for (const buffer of message.buffers) {\n",
              "            buffers.push(buffer);\n",
              "            downloaded += buffer.byteLength;\n",
              "            progress.value = downloaded;\n",
              "          }\n",
              "        }\n",
              "      }\n",
              "      const blob = new Blob(buffers, {type: 'application/binary'});\n",
              "      const a = document.createElement('a');\n",
              "      a.href = window.URL.createObjectURL(blob);\n",
              "      a.download = filename;\n",
              "      div.appendChild(a);\n",
              "      a.click();\n",
              "      div.remove();\n",
              "    }\n",
              "  "
            ],
            "text/plain": [
              "<IPython.core.display.Javascript object>"
            ]
          },
          "metadata": {}
        },
        {
          "output_type": "display_data",
          "data": {
            "application/javascript": [
              "download(\"download_6acdfcbf-5866-49c1-bc16-cbacbb8c6bc6\", \"SAGE_hiddendim.png\", 178135)"
            ],
            "text/plain": [
              "<IPython.core.display.Javascript object>"
            ]
          },
          "metadata": {}
        }
      ]
    }
  ]
}